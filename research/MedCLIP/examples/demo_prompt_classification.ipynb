{
 "cells": [
  {
   "cell_type": "code",
   "execution_count": 15,
   "id": "864079f2",
   "metadata": {},
   "outputs": [
    {
     "name": "stdout",
     "output_type": "stream",
     "text": [
      "Requirement already satisfied: requests in d:\\users\\taylor\\.conda\\lib\\site-packages (2.31.0)\n",
      "Requirement already satisfied: charset-normalizer<4,>=2 in d:\\users\\taylor\\.conda\\lib\\site-packages (from requests) (3.3.2)\n",
      "Requirement already satisfied: idna<4,>=2.5 in d:\\users\\taylor\\.conda\\lib\\site-packages (from requests) (2.10)\n",
      "Requirement already satisfied: urllib3<3,>=1.21.1 in d:\\users\\taylor\\.conda\\lib\\site-packages (from requests) (2.2.1)\n",
      "Requirement already satisfied: certifi>=2017.4.17 in d:\\users\\taylor\\.conda\\lib\\site-packages (from requests) (2024.2.2)\n",
      "Requirement already satisfied: numpy in d:\\users\\taylor\\.conda\\lib\\site-packages (from -r D:\\Users\\guilherme\\AI-MammoReport\\research\\MedCLIP\\requirements.txt (line 1)) (1.26.4)\n",
      "Requirement already satisfied: pandas in d:\\users\\taylor\\.conda\\lib\\site-packages (from -r D:\\Users\\guilherme\\AI-MammoReport\\research\\MedCLIP\\requirements.txt (line 2)) (2.2.1)\n",
      "Requirement already satisfied: Pillow in d:\\users\\taylor\\.conda\\lib\\site-packages (from -r D:\\Users\\guilherme\\AI-MammoReport\\research\\MedCLIP\\requirements.txt (line 3)) (10.2.0)\n",
      "Requirement already satisfied: requests in d:\\users\\taylor\\.conda\\lib\\site-packages (from -r D:\\Users\\guilherme\\AI-MammoReport\\research\\MedCLIP\\requirements.txt (line 4)) (2.31.0)\n",
      "Requirement already satisfied: tqdm in d:\\users\\taylor\\.conda\\lib\\site-packages (from -r D:\\Users\\guilherme\\AI-MammoReport\\research\\MedCLIP\\requirements.txt (line 5)) (4.66.2)\n",
      "Requirement already satisfied: wget in d:\\users\\taylor\\.conda\\lib\\site-packages (from -r D:\\Users\\guilherme\\AI-MammoReport\\research\\MedCLIP\\requirements.txt (line 6)) (3.2)\n",
      "Requirement already satisfied: nltk>=3.7 in d:\\users\\taylor\\.conda\\lib\\site-packages (from -r D:\\Users\\guilherme\\AI-MammoReport\\research\\MedCLIP\\requirements.txt (line 7)) (3.8.1)\n",
      "Requirement already satisfied: scikit_learn>=1.1.2 in d:\\users\\taylor\\.conda\\lib\\site-packages (from -r D:\\Users\\guilherme\\AI-MammoReport\\research\\MedCLIP\\requirements.txt (line 8)) (1.4.2)\n",
      "Requirement already satisfied: textaugment>=1.3.4 in d:\\users\\taylor\\.conda\\lib\\site-packages (from -r D:\\Users\\guilherme\\AI-MammoReport\\research\\MedCLIP\\requirements.txt (line 9)) (2.0.0)\n",
      "Requirement already satisfied: timm>=0.6.11 in d:\\users\\taylor\\.conda\\lib\\site-packages (from -r D:\\Users\\guilherme\\AI-MammoReport\\research\\MedCLIP\\requirements.txt (line 10)) (0.9.16)\n",
      "Requirement already satisfied: torch>=1.12.1 in d:\\users\\taylor\\.conda\\lib\\site-packages (from -r D:\\Users\\guilherme\\AI-MammoReport\\research\\MedCLIP\\requirements.txt (line 11)) (2.2.2)\n",
      "Requirement already satisfied: torchvision>=0.13.1 in d:\\users\\taylor\\.conda\\lib\\site-packages (from -r D:\\Users\\guilherme\\AI-MammoReport\\research\\MedCLIP\\requirements.txt (line 12)) (0.17.2)\n",
      "Requirement already satisfied: transformers<=4.24.0,>=4.23.1 in d:\\users\\taylor\\.conda\\lib\\site-packages (from -r D:\\Users\\guilherme\\AI-MammoReport\\research\\MedCLIP\\requirements.txt (line 13)) (4.24.0)\n",
      "Requirement already satisfied: scipy==1.10.1 in d:\\users\\taylor\\.conda\\lib\\site-packages (from -r D:\\Users\\guilherme\\AI-MammoReport\\research\\MedCLIP\\requirements.txt (line 14)) (1.10.1)\n",
      "Requirement already satisfied: python-dateutil>=2.8.2 in d:\\users\\taylor\\.conda\\lib\\site-packages (from pandas->-r D:\\Users\\guilherme\\AI-MammoReport\\research\\MedCLIP\\requirements.txt (line 2)) (2.9.0)\n",
      "Requirement already satisfied: pytz>=2020.1 in d:\\users\\taylor\\.conda\\lib\\site-packages (from pandas->-r D:\\Users\\guilherme\\AI-MammoReport\\research\\MedCLIP\\requirements.txt (line 2)) (2024.1)\n",
      "Requirement already satisfied: tzdata>=2022.7 in d:\\users\\taylor\\.conda\\lib\\site-packages (from pandas->-r D:\\Users\\guilherme\\AI-MammoReport\\research\\MedCLIP\\requirements.txt (line 2)) (2024.1)\n",
      "Requirement already satisfied: charset-normalizer<4,>=2 in d:\\users\\taylor\\.conda\\lib\\site-packages (from requests->-r D:\\Users\\guilherme\\AI-MammoReport\\research\\MedCLIP\\requirements.txt (line 4)) (3.3.2)\n",
      "Requirement already satisfied: idna<4,>=2.5 in d:\\users\\taylor\\.conda\\lib\\site-packages (from requests->-r D:\\Users\\guilherme\\AI-MammoReport\\research\\MedCLIP\\requirements.txt (line 4)) (2.10)\n",
      "Requirement already satisfied: urllib3<3,>=1.21.1 in d:\\users\\taylor\\.conda\\lib\\site-packages (from requests->-r D:\\Users\\guilherme\\AI-MammoReport\\research\\MedCLIP\\requirements.txt (line 4)) (2.2.1)\n",
      "Requirement already satisfied: certifi>=2017.4.17 in d:\\users\\taylor\\.conda\\lib\\site-packages (from requests->-r D:\\Users\\guilherme\\AI-MammoReport\\research\\MedCLIP\\requirements.txt (line 4)) (2024.2.2)\n",
      "Requirement already satisfied: colorama in d:\\users\\taylor\\.conda\\lib\\site-packages (from tqdm->-r D:\\Users\\guilherme\\AI-MammoReport\\research\\MedCLIP\\requirements.txt (line 5)) (0.4.6)\n",
      "Requirement already satisfied: click in d:\\users\\taylor\\.conda\\lib\\site-packages (from nltk>=3.7->-r D:\\Users\\guilherme\\AI-MammoReport\\research\\MedCLIP\\requirements.txt (line 7)) (8.1.7)\n",
      "Requirement already satisfied: joblib in d:\\users\\taylor\\.conda\\lib\\site-packages (from nltk>=3.7->-r D:\\Users\\guilherme\\AI-MammoReport\\research\\MedCLIP\\requirements.txt (line 7)) (1.4.0)\n",
      "Requirement already satisfied: regex>=2021.8.3 in d:\\users\\taylor\\.conda\\lib\\site-packages (from nltk>=3.7->-r D:\\Users\\guilherme\\AI-MammoReport\\research\\MedCLIP\\requirements.txt (line 7)) (2024.4.16)\n",
      "Requirement already satisfied: threadpoolctl>=2.0.0 in d:\\users\\taylor\\.conda\\lib\\site-packages (from scikit_learn>=1.1.2->-r D:\\Users\\guilherme\\AI-MammoReport\\research\\MedCLIP\\requirements.txt (line 8)) (3.4.0)\n",
      "Requirement already satisfied: gensim>=4.0 in d:\\users\\taylor\\.conda\\lib\\site-packages (from textaugment>=1.3.4->-r D:\\Users\\guilherme\\AI-MammoReport\\research\\MedCLIP\\requirements.txt (line 9)) (4.3.2)\n",
      "Requirement already satisfied: textblob in d:\\users\\taylor\\.conda\\lib\\site-packages (from textaugment>=1.3.4->-r D:\\Users\\guilherme\\AI-MammoReport\\research\\MedCLIP\\requirements.txt (line 9)) (0.18.0.post0)\n",
      "Requirement already satisfied: googletrans>=2 in d:\\users\\taylor\\.conda\\lib\\site-packages (from textaugment>=1.3.4->-r D:\\Users\\guilherme\\AI-MammoReport\\research\\MedCLIP\\requirements.txt (line 9)) (3.0.0)\n",
      "Requirement already satisfied: pyyaml in d:\\users\\taylor\\.conda\\lib\\site-packages (from timm>=0.6.11->-r D:\\Users\\guilherme\\AI-MammoReport\\research\\MedCLIP\\requirements.txt (line 10)) (6.0.1)\n",
      "Requirement already satisfied: huggingface_hub in d:\\users\\taylor\\.conda\\lib\\site-packages (from timm>=0.6.11->-r D:\\Users\\guilherme\\AI-MammoReport\\research\\MedCLIP\\requirements.txt (line 10)) (0.22.2)\n",
      "Requirement already satisfied: safetensors in d:\\users\\taylor\\.conda\\lib\\site-packages (from timm>=0.6.11->-r D:\\Users\\guilherme\\AI-MammoReport\\research\\MedCLIP\\requirements.txt (line 10)) (0.4.3)\n",
      "Requirement already satisfied: filelock in d:\\users\\taylor\\.conda\\lib\\site-packages (from torch>=1.12.1->-r D:\\Users\\guilherme\\AI-MammoReport\\research\\MedCLIP\\requirements.txt (line 11)) (3.13.4)\n",
      "Requirement already satisfied: typing-extensions>=4.8.0 in d:\\users\\taylor\\.conda\\lib\\site-packages (from torch>=1.12.1->-r D:\\Users\\guilherme\\AI-MammoReport\\research\\MedCLIP\\requirements.txt (line 11)) (4.10.0)\n",
      "Requirement already satisfied: sympy in d:\\users\\taylor\\.conda\\lib\\site-packages (from torch>=1.12.1->-r D:\\Users\\guilherme\\AI-MammoReport\\research\\MedCLIP\\requirements.txt (line 11)) (1.12)\n",
      "Requirement already satisfied: networkx in d:\\users\\taylor\\.conda\\lib\\site-packages (from torch>=1.12.1->-r D:\\Users\\guilherme\\AI-MammoReport\\research\\MedCLIP\\requirements.txt (line 11)) (3.3)\n",
      "Requirement already satisfied: jinja2 in d:\\users\\taylor\\.conda\\lib\\site-packages (from torch>=1.12.1->-r D:\\Users\\guilherme\\AI-MammoReport\\research\\MedCLIP\\requirements.txt (line 11)) (3.1.3)\n",
      "Requirement already satisfied: fsspec in d:\\users\\taylor\\.conda\\lib\\site-packages (from torch>=1.12.1->-r D:\\Users\\guilherme\\AI-MammoReport\\research\\MedCLIP\\requirements.txt (line 11)) (2024.3.1)\n",
      "Requirement already satisfied: packaging>=20.0 in d:\\users\\taylor\\.conda\\lib\\site-packages (from transformers<=4.24.0,>=4.23.1->-r D:\\Users\\guilherme\\AI-MammoReport\\research\\MedCLIP\\requirements.txt (line 13)) (23.2)\n",
      "Requirement already satisfied: tokenizers!=0.11.3,<0.14,>=0.11.1 in d:\\users\\taylor\\.conda\\lib\\site-packages (from transformers<=4.24.0,>=4.23.1->-r D:\\Users\\guilherme\\AI-MammoReport\\research\\MedCLIP\\requirements.txt (line 13)) (0.13.3)\n",
      "Requirement already satisfied: smart-open>=1.8.1 in d:\\users\\taylor\\.conda\\lib\\site-packages (from gensim>=4.0->textaugment>=1.3.4->-r D:\\Users\\guilherme\\AI-MammoReport\\research\\MedCLIP\\requirements.txt (line 9)) (7.0.4)\n",
      "Requirement already satisfied: httpx==0.13.3 in d:\\users\\taylor\\.conda\\lib\\site-packages (from googletrans>=2->textaugment>=1.3.4->-r D:\\Users\\guilherme\\AI-MammoReport\\research\\MedCLIP\\requirements.txt (line 9)) (0.13.3)\n",
      "Requirement already satisfied: hstspreload in d:\\users\\taylor\\.conda\\lib\\site-packages (from httpx==0.13.3->googletrans>=2->textaugment>=1.3.4->-r D:\\Users\\guilherme\\AI-MammoReport\\research\\MedCLIP\\requirements.txt (line 9)) (2024.4.1)\n",
      "Requirement already satisfied: sniffio in d:\\users\\taylor\\.conda\\lib\\site-packages (from httpx==0.13.3->googletrans>=2->textaugment>=1.3.4->-r D:\\Users\\guilherme\\AI-MammoReport\\research\\MedCLIP\\requirements.txt (line 9)) (1.3.1)\n",
      "Requirement already satisfied: chardet==3.* in d:\\users\\taylor\\.conda\\lib\\site-packages (from httpx==0.13.3->googletrans>=2->textaugment>=1.3.4->-r D:\\Users\\guilherme\\AI-MammoReport\\research\\MedCLIP\\requirements.txt (line 9)) (3.0.4)\n",
      "Requirement already satisfied: rfc3986<2,>=1.3 in d:\\users\\taylor\\.conda\\lib\\site-packages (from httpx==0.13.3->googletrans>=2->textaugment>=1.3.4->-r D:\\Users\\guilherme\\AI-MammoReport\\research\\MedCLIP\\requirements.txt (line 9)) (1.5.0)\n",
      "Requirement already satisfied: httpcore==0.9.* in d:\\users\\taylor\\.conda\\lib\\site-packages (from httpx==0.13.3->googletrans>=2->textaugment>=1.3.4->-r D:\\Users\\guilherme\\AI-MammoReport\\research\\MedCLIP\\requirements.txt (line 9)) (0.9.1)\n",
      "Requirement already satisfied: h11<0.10,>=0.8 in d:\\users\\taylor\\.conda\\lib\\site-packages (from httpcore==0.9.*->httpx==0.13.3->googletrans>=2->textaugment>=1.3.4->-r D:\\Users\\guilherme\\AI-MammoReport\\research\\MedCLIP\\requirements.txt (line 9)) (0.9.0)\n",
      "Requirement already satisfied: h2==3.* in d:\\users\\taylor\\.conda\\lib\\site-packages (from httpcore==0.9.*->httpx==0.13.3->googletrans>=2->textaugment>=1.3.4->-r D:\\Users\\guilherme\\AI-MammoReport\\research\\MedCLIP\\requirements.txt (line 9)) (3.2.0)\n",
      "Requirement already satisfied: hyperframe<6,>=5.2.0 in d:\\users\\taylor\\.conda\\lib\\site-packages (from h2==3.*->httpcore==0.9.*->httpx==0.13.3->googletrans>=2->textaugment>=1.3.4->-r D:\\Users\\guilherme\\AI-MammoReport\\research\\MedCLIP\\requirements.txt (line 9)) (5.2.0)\n",
      "Requirement already satisfied: hpack<4,>=3.0 in d:\\users\\taylor\\.conda\\lib\\site-packages (from h2==3.*->httpcore==0.9.*->httpx==0.13.3->googletrans>=2->textaugment>=1.3.4->-r D:\\Users\\guilherme\\AI-MammoReport\\research\\MedCLIP\\requirements.txt (line 9)) (3.0.0)\n",
      "Requirement already satisfied: six>=1.5 in d:\\users\\taylor\\.conda\\lib\\site-packages (from python-dateutil>=2.8.2->pandas->-r D:\\Users\\guilherme\\AI-MammoReport\\research\\MedCLIP\\requirements.txt (line 2)) (1.16.0)\n",
      "Requirement already satisfied: MarkupSafe>=2.0 in d:\\users\\taylor\\.conda\\lib\\site-packages (from jinja2->torch>=1.12.1->-r D:\\Users\\guilherme\\AI-MammoReport\\research\\MedCLIP\\requirements.txt (line 11)) (2.1.5)\n",
      "Requirement already satisfied: mpmath>=0.19 in d:\\users\\taylor\\.conda\\lib\\site-packages (from sympy->torch>=1.12.1->-r D:\\Users\\guilherme\\AI-MammoReport\\research\\MedCLIP\\requirements.txt (line 11)) (1.3.0)\n",
      "Requirement already satisfied: wrapt in d:\\users\\taylor\\.conda\\lib\\site-packages (from smart-open>=1.8.1->gensim>=4.0->textaugment>=1.3.4->-r D:\\Users\\guilherme\\AI-MammoReport\\research\\MedCLIP\\requirements.txt (line 9)) (1.16.0)\n"
     ]
    }
   ],
   "source": [
    "!pip3 install requests\n",
    "!pip3 install -r D:\\Users\\guilherme\\AI-MammoReport\\research\\MedCLIP\\requirements.txt"
   ]
  },
  {
   "cell_type": "code",
   "execution_count": 25,
   "id": "e1cbb943",
   "metadata": {},
   "outputs": [],
   "source": [
    "import os\n",
    "os.chdir('../')\n",
    "\n",
    "from medclip import MedCLIPModel, MedCLIPVisionModelViT\n",
    "from medclip import MedCLIPProcessor\n",
    "from medclip import PromptClassifier"
   ]
  },
  {
   "cell_type": "code",
   "execution_count": 26,
   "id": "c500a330",
   "metadata": {},
   "outputs": [
    {
     "name": "stderr",
     "output_type": "stream",
     "text": [
      "Some weights of the model checkpoint at microsoft/swin-tiny-patch4-window7-224 were not used when initializing SwinModel: ['classifier.weight', 'classifier.bias']\n",
      "- This IS expected if you are initializing SwinModel from the checkpoint of a model trained on another task or with another architecture (e.g. initializing a BertForSequenceClassification model from a BertForPreTraining model).\n",
      "- This IS NOT expected if you are initializing SwinModel from the checkpoint of a model that you expect to be exactly identical (initializing a BertForSequenceClassification model from a BertForSequenceClassification model).\n",
      "Some weights of the model checkpoint at emilyalsentzer/Bio_ClinicalBERT were not used when initializing BertModel: ['cls.seq_relationship.weight', 'cls.seq_relationship.bias', 'cls.predictions.transform.dense.weight', 'cls.predictions.decoder.weight', 'cls.predictions.bias', 'cls.predictions.transform.dense.bias', 'cls.predictions.transform.LayerNorm.bias', 'cls.predictions.transform.LayerNorm.weight']\n",
      "- This IS expected if you are initializing BertModel from the checkpoint of a model trained on another task or with another architecture (e.g. initializing a BertForSequenceClassification model from a BertForPreTraining model).\n",
      "- This IS NOT expected if you are initializing BertModel from the checkpoint of a model that you expect to be exactly identical (initializing a BertForSequenceClassification model from a BertForSequenceClassification model).\n"
     ]
    },
    {
     "ename": "RuntimeError",
     "evalue": "Attempting to deserialize object on a CUDA device but torch.cuda.is_available() is False. If you are running on a CPU-only machine, please use torch.load with map_location=torch.device('cpu') to map your storages to the CPU.",
     "output_type": "error",
     "traceback": [
      "\u001b[1;31m---------------------------------------------------------------------------\u001b[0m",
      "\u001b[1;31mRuntimeError\u001b[0m                              Traceback (most recent call last)",
      "Cell \u001b[1;32mIn[26], line 3\u001b[0m\n\u001b[0;32m      1\u001b[0m \u001b[38;5;66;03m# init models\u001b[39;00m\n\u001b[0;32m      2\u001b[0m processor \u001b[38;5;241m=\u001b[39m MedCLIPProcessor()\n\u001b[1;32m----> 3\u001b[0m model \u001b[38;5;241m=\u001b[39m \u001b[43mMedCLIPModel\u001b[49m\u001b[43m(\u001b[49m\u001b[43mvision_cls\u001b[49m\u001b[38;5;241;43m=\u001b[39;49m\u001b[43mMedCLIPVisionModelViT\u001b[49m\u001b[43m,\u001b[49m\u001b[43m \u001b[49m\u001b[43mcheckpoint\u001b[49m\u001b[38;5;241;43m=\u001b[39;49m\u001b[38;5;124;43m'\u001b[39;49m\u001b[38;5;124;43mD:/Users/guilherme/AI-MammoReport/research/MedCLIP/checkpoints/vision_text_pretrain/best\u001b[39;49m\u001b[38;5;124;43m'\u001b[39;49m\u001b[43m)\u001b[49m\n\u001b[0;32m      4\u001b[0m clf \u001b[38;5;241m=\u001b[39m PromptClassifier(model, ensemble\u001b[38;5;241m=\u001b[39m\u001b[38;5;28;01mTrue\u001b[39;00m)\n\u001b[0;32m      5\u001b[0m clf\u001b[38;5;241m.\u001b[39mcuda()\n",
      "File \u001b[1;32md:\\Users\\guilherme\\AI-MammoReport\\research\\MedCLIP\\examples\\medclip\\modeling_medclip.py:147\u001b[0m, in \u001b[0;36mMedCLIPModel.__init__\u001b[1;34m(self, vision_cls, checkpoint, vision_checkpoint, logit_scale_init_value)\u001b[0m\n\u001b[0;32m    144\u001b[0m \u001b[38;5;28mself\u001b[39m\u001b[38;5;241m.\u001b[39mlogit_scale \u001b[38;5;241m=\u001b[39m nn\u001b[38;5;241m.\u001b[39mParameter(torch\u001b[38;5;241m.\u001b[39mlog(torch\u001b[38;5;241m.\u001b[39mtensor(\u001b[38;5;241m1\u001b[39m\u001b[38;5;241m/\u001b[39mlogit_scale_init_value)))\n\u001b[0;32m    146\u001b[0m \u001b[38;5;28;01mif\u001b[39;00m checkpoint \u001b[38;5;129;01mis\u001b[39;00m \u001b[38;5;129;01mnot\u001b[39;00m \u001b[38;5;28;01mNone\u001b[39;00m:\n\u001b[1;32m--> 147\u001b[0m     state_dict \u001b[38;5;241m=\u001b[39m \u001b[43mtorch\u001b[49m\u001b[38;5;241;43m.\u001b[39;49m\u001b[43mload\u001b[49m\u001b[43m(\u001b[49m\u001b[43mos\u001b[49m\u001b[38;5;241;43m.\u001b[39;49m\u001b[43mpath\u001b[49m\u001b[38;5;241;43m.\u001b[39;49m\u001b[43mjoin\u001b[49m\u001b[43m(\u001b[49m\u001b[43mcheckpoint\u001b[49m\u001b[43m,\u001b[49m\u001b[43m \u001b[49m\u001b[43mconstants\u001b[49m\u001b[38;5;241;43m.\u001b[39;49m\u001b[43mWEIGHTS_NAME\u001b[49m\u001b[43m)\u001b[49m\u001b[43m)\u001b[49m\n\u001b[0;32m    148\u001b[0m     \u001b[38;5;28mself\u001b[39m\u001b[38;5;241m.\u001b[39mload_state_dict(state_dict)\n\u001b[0;32m    149\u001b[0m     \u001b[38;5;28mprint\u001b[39m(\u001b[38;5;124m'\u001b[39m\u001b[38;5;124mload model weight from:\u001b[39m\u001b[38;5;124m'\u001b[39m, checkpoint)\n",
      "File \u001b[1;32md:\\Users\\taylor\\.conda\\Lib\\site-packages\\torch\\serialization.py:1026\u001b[0m, in \u001b[0;36mload\u001b[1;34m(f, map_location, pickle_module, weights_only, mmap, **pickle_load_args)\u001b[0m\n\u001b[0;32m   1024\u001b[0m             \u001b[38;5;28;01mexcept\u001b[39;00m \u001b[38;5;167;01mRuntimeError\u001b[39;00m \u001b[38;5;28;01mas\u001b[39;00m e:\n\u001b[0;32m   1025\u001b[0m                 \u001b[38;5;28;01mraise\u001b[39;00m pickle\u001b[38;5;241m.\u001b[39mUnpicklingError(UNSAFE_MESSAGE \u001b[38;5;241m+\u001b[39m \u001b[38;5;28mstr\u001b[39m(e)) \u001b[38;5;28;01mfrom\u001b[39;00m \u001b[38;5;28;01mNone\u001b[39;00m\n\u001b[1;32m-> 1026\u001b[0m         \u001b[38;5;28;01mreturn\u001b[39;00m \u001b[43m_load\u001b[49m\u001b[43m(\u001b[49m\u001b[43mopened_zipfile\u001b[49m\u001b[43m,\u001b[49m\n\u001b[0;32m   1027\u001b[0m \u001b[43m                     \u001b[49m\u001b[43mmap_location\u001b[49m\u001b[43m,\u001b[49m\n\u001b[0;32m   1028\u001b[0m \u001b[43m                     \u001b[49m\u001b[43mpickle_module\u001b[49m\u001b[43m,\u001b[49m\n\u001b[0;32m   1029\u001b[0m \u001b[43m                     \u001b[49m\u001b[43moverall_storage\u001b[49m\u001b[38;5;241;43m=\u001b[39;49m\u001b[43moverall_storage\u001b[49m\u001b[43m,\u001b[49m\n\u001b[0;32m   1030\u001b[0m \u001b[43m                     \u001b[49m\u001b[38;5;241;43m*\u001b[39;49m\u001b[38;5;241;43m*\u001b[39;49m\u001b[43mpickle_load_args\u001b[49m\u001b[43m)\u001b[49m\n\u001b[0;32m   1031\u001b[0m \u001b[38;5;28;01mif\u001b[39;00m mmap:\n\u001b[0;32m   1032\u001b[0m     \u001b[38;5;28;01mraise\u001b[39;00m \u001b[38;5;167;01mRuntimeError\u001b[39;00m(\u001b[38;5;124m\"\u001b[39m\u001b[38;5;124mmmap can only be used with files saved with \u001b[39m\u001b[38;5;124m\"\u001b[39m\n\u001b[0;32m   1033\u001b[0m                        \u001b[38;5;124m\"\u001b[39m\u001b[38;5;124m`torch.save(_use_new_zipfile_serialization=True), \u001b[39m\u001b[38;5;124m\"\u001b[39m\n\u001b[0;32m   1034\u001b[0m                        \u001b[38;5;124m\"\u001b[39m\u001b[38;5;124mplease torch.save your checkpoint with this option in order to use mmap.\u001b[39m\u001b[38;5;124m\"\u001b[39m)\n",
      "File \u001b[1;32md:\\Users\\taylor\\.conda\\Lib\\site-packages\\torch\\serialization.py:1438\u001b[0m, in \u001b[0;36m_load\u001b[1;34m(zip_file, map_location, pickle_module, pickle_file, overall_storage, **pickle_load_args)\u001b[0m\n\u001b[0;32m   1436\u001b[0m unpickler \u001b[38;5;241m=\u001b[39m UnpicklerWrapper(data_file, \u001b[38;5;241m*\u001b[39m\u001b[38;5;241m*\u001b[39mpickle_load_args)\n\u001b[0;32m   1437\u001b[0m unpickler\u001b[38;5;241m.\u001b[39mpersistent_load \u001b[38;5;241m=\u001b[39m persistent_load\n\u001b[1;32m-> 1438\u001b[0m result \u001b[38;5;241m=\u001b[39m \u001b[43munpickler\u001b[49m\u001b[38;5;241;43m.\u001b[39;49m\u001b[43mload\u001b[49m\u001b[43m(\u001b[49m\u001b[43m)\u001b[49m\n\u001b[0;32m   1440\u001b[0m torch\u001b[38;5;241m.\u001b[39m_utils\u001b[38;5;241m.\u001b[39m_validate_loaded_sparse_tensors()\n\u001b[0;32m   1441\u001b[0m torch\u001b[38;5;241m.\u001b[39m_C\u001b[38;5;241m.\u001b[39m_log_api_usage_metadata(\n\u001b[0;32m   1442\u001b[0m     \u001b[38;5;124m\"\u001b[39m\u001b[38;5;124mtorch.load.metadata\u001b[39m\u001b[38;5;124m\"\u001b[39m, {\u001b[38;5;124m\"\u001b[39m\u001b[38;5;124mserialization_id\u001b[39m\u001b[38;5;124m\"\u001b[39m: zip_file\u001b[38;5;241m.\u001b[39mserialization_id()}\n\u001b[0;32m   1443\u001b[0m )\n",
      "File \u001b[1;32md:\\Users\\taylor\\.conda\\Lib\\site-packages\\torch\\serialization.py:1408\u001b[0m, in \u001b[0;36m_load.<locals>.persistent_load\u001b[1;34m(saved_id)\u001b[0m\n\u001b[0;32m   1406\u001b[0m \u001b[38;5;28;01melse\u001b[39;00m:\n\u001b[0;32m   1407\u001b[0m     nbytes \u001b[38;5;241m=\u001b[39m numel \u001b[38;5;241m*\u001b[39m torch\u001b[38;5;241m.\u001b[39m_utils\u001b[38;5;241m.\u001b[39m_element_size(dtype)\n\u001b[1;32m-> 1408\u001b[0m     typed_storage \u001b[38;5;241m=\u001b[39m \u001b[43mload_tensor\u001b[49m\u001b[43m(\u001b[49m\u001b[43mdtype\u001b[49m\u001b[43m,\u001b[49m\u001b[43m \u001b[49m\u001b[43mnbytes\u001b[49m\u001b[43m,\u001b[49m\u001b[43m \u001b[49m\u001b[43mkey\u001b[49m\u001b[43m,\u001b[49m\u001b[43m \u001b[49m\u001b[43m_maybe_decode_ascii\u001b[49m\u001b[43m(\u001b[49m\u001b[43mlocation\u001b[49m\u001b[43m)\u001b[49m\u001b[43m)\u001b[49m\n\u001b[0;32m   1410\u001b[0m \u001b[38;5;28;01mreturn\u001b[39;00m typed_storage\n",
      "File \u001b[1;32md:\\Users\\taylor\\.conda\\Lib\\site-packages\\torch\\serialization.py:1382\u001b[0m, in \u001b[0;36m_load.<locals>.load_tensor\u001b[1;34m(dtype, numel, key, location)\u001b[0m\n\u001b[0;32m   1377\u001b[0m         storage\u001b[38;5;241m.\u001b[39mbyteswap(dtype)\n\u001b[0;32m   1379\u001b[0m \u001b[38;5;66;03m# TODO: Once we decide to break serialization FC, we can\u001b[39;00m\n\u001b[0;32m   1380\u001b[0m \u001b[38;5;66;03m# stop wrapping with TypedStorage\u001b[39;00m\n\u001b[0;32m   1381\u001b[0m typed_storage \u001b[38;5;241m=\u001b[39m torch\u001b[38;5;241m.\u001b[39mstorage\u001b[38;5;241m.\u001b[39mTypedStorage(\n\u001b[1;32m-> 1382\u001b[0m     wrap_storage\u001b[38;5;241m=\u001b[39m\u001b[43mrestore_location\u001b[49m\u001b[43m(\u001b[49m\u001b[43mstorage\u001b[49m\u001b[43m,\u001b[49m\u001b[43m \u001b[49m\u001b[43mlocation\u001b[49m\u001b[43m)\u001b[49m,\n\u001b[0;32m   1383\u001b[0m     dtype\u001b[38;5;241m=\u001b[39mdtype,\n\u001b[0;32m   1384\u001b[0m     _internal\u001b[38;5;241m=\u001b[39m\u001b[38;5;28;01mTrue\u001b[39;00m)\n\u001b[0;32m   1386\u001b[0m \u001b[38;5;28;01mif\u001b[39;00m typed_storage\u001b[38;5;241m.\u001b[39m_data_ptr() \u001b[38;5;241m!=\u001b[39m \u001b[38;5;241m0\u001b[39m:\n\u001b[0;32m   1387\u001b[0m     loaded_storages[key] \u001b[38;5;241m=\u001b[39m typed_storage\n",
      "File \u001b[1;32md:\\Users\\taylor\\.conda\\Lib\\site-packages\\torch\\serialization.py:391\u001b[0m, in \u001b[0;36mdefault_restore_location\u001b[1;34m(storage, location)\u001b[0m\n\u001b[0;32m    389\u001b[0m \u001b[38;5;28;01mdef\u001b[39;00m \u001b[38;5;21mdefault_restore_location\u001b[39m(storage, location):\n\u001b[0;32m    390\u001b[0m     \u001b[38;5;28;01mfor\u001b[39;00m _, _, fn \u001b[38;5;129;01min\u001b[39;00m _package_registry:\n\u001b[1;32m--> 391\u001b[0m         result \u001b[38;5;241m=\u001b[39m \u001b[43mfn\u001b[49m\u001b[43m(\u001b[49m\u001b[43mstorage\u001b[49m\u001b[43m,\u001b[49m\u001b[43m \u001b[49m\u001b[43mlocation\u001b[49m\u001b[43m)\u001b[49m\n\u001b[0;32m    392\u001b[0m         \u001b[38;5;28;01mif\u001b[39;00m result \u001b[38;5;129;01mis\u001b[39;00m \u001b[38;5;129;01mnot\u001b[39;00m \u001b[38;5;28;01mNone\u001b[39;00m:\n\u001b[0;32m    393\u001b[0m             \u001b[38;5;28;01mreturn\u001b[39;00m result\n",
      "File \u001b[1;32md:\\Users\\taylor\\.conda\\Lib\\site-packages\\torch\\serialization.py:266\u001b[0m, in \u001b[0;36m_cuda_deserialize\u001b[1;34m(obj, location)\u001b[0m\n\u001b[0;32m    264\u001b[0m \u001b[38;5;28;01mdef\u001b[39;00m \u001b[38;5;21m_cuda_deserialize\u001b[39m(obj, location):\n\u001b[0;32m    265\u001b[0m     \u001b[38;5;28;01mif\u001b[39;00m location\u001b[38;5;241m.\u001b[39mstartswith(\u001b[38;5;124m'\u001b[39m\u001b[38;5;124mcuda\u001b[39m\u001b[38;5;124m'\u001b[39m):\n\u001b[1;32m--> 266\u001b[0m         device \u001b[38;5;241m=\u001b[39m \u001b[43mvalidate_cuda_device\u001b[49m\u001b[43m(\u001b[49m\u001b[43mlocation\u001b[49m\u001b[43m)\u001b[49m\n\u001b[0;32m    267\u001b[0m         \u001b[38;5;28;01mif\u001b[39;00m \u001b[38;5;28mgetattr\u001b[39m(obj, \u001b[38;5;124m\"\u001b[39m\u001b[38;5;124m_torch_load_uninitialized\u001b[39m\u001b[38;5;124m\"\u001b[39m, \u001b[38;5;28;01mFalse\u001b[39;00m):\n\u001b[0;32m    268\u001b[0m             \u001b[38;5;28;01mwith\u001b[39;00m torch\u001b[38;5;241m.\u001b[39mcuda\u001b[38;5;241m.\u001b[39mdevice(device):\n",
      "File \u001b[1;32md:\\Users\\taylor\\.conda\\Lib\\site-packages\\torch\\serialization.py:250\u001b[0m, in \u001b[0;36mvalidate_cuda_device\u001b[1;34m(location)\u001b[0m\n\u001b[0;32m    247\u001b[0m device \u001b[38;5;241m=\u001b[39m torch\u001b[38;5;241m.\u001b[39mcuda\u001b[38;5;241m.\u001b[39m_utils\u001b[38;5;241m.\u001b[39m_get_device_index(location, \u001b[38;5;28;01mTrue\u001b[39;00m)\n\u001b[0;32m    249\u001b[0m \u001b[38;5;28;01mif\u001b[39;00m \u001b[38;5;129;01mnot\u001b[39;00m torch\u001b[38;5;241m.\u001b[39mcuda\u001b[38;5;241m.\u001b[39mis_available():\n\u001b[1;32m--> 250\u001b[0m     \u001b[38;5;28;01mraise\u001b[39;00m \u001b[38;5;167;01mRuntimeError\u001b[39;00m(\u001b[38;5;124m'\u001b[39m\u001b[38;5;124mAttempting to deserialize object on a CUDA \u001b[39m\u001b[38;5;124m'\u001b[39m\n\u001b[0;32m    251\u001b[0m                        \u001b[38;5;124m'\u001b[39m\u001b[38;5;124mdevice but torch.cuda.is_available() is False. \u001b[39m\u001b[38;5;124m'\u001b[39m\n\u001b[0;32m    252\u001b[0m                        \u001b[38;5;124m'\u001b[39m\u001b[38;5;124mIf you are running on a CPU-only machine, \u001b[39m\u001b[38;5;124m'\u001b[39m\n\u001b[0;32m    253\u001b[0m                        \u001b[38;5;124m'\u001b[39m\u001b[38;5;124mplease use torch.load with map_location=torch.device(\u001b[39m\u001b[38;5;130;01m\\'\u001b[39;00m\u001b[38;5;124mcpu\u001b[39m\u001b[38;5;130;01m\\'\u001b[39;00m\u001b[38;5;124m) \u001b[39m\u001b[38;5;124m'\u001b[39m\n\u001b[0;32m    254\u001b[0m                        \u001b[38;5;124m'\u001b[39m\u001b[38;5;124mto map your storages to the CPU.\u001b[39m\u001b[38;5;124m'\u001b[39m)\n\u001b[0;32m    255\u001b[0m device_count \u001b[38;5;241m=\u001b[39m torch\u001b[38;5;241m.\u001b[39mcuda\u001b[38;5;241m.\u001b[39mdevice_count()\n\u001b[0;32m    256\u001b[0m \u001b[38;5;28;01mif\u001b[39;00m device \u001b[38;5;241m>\u001b[39m\u001b[38;5;241m=\u001b[39m device_count:\n",
      "\u001b[1;31mRuntimeError\u001b[0m: Attempting to deserialize object on a CUDA device but torch.cuda.is_available() is False. If you are running on a CPU-only machine, please use torch.load with map_location=torch.device('cpu') to map your storages to the CPU."
     ]
    }
   ],
   "source": [
    "# init models\n",
    "processor = MedCLIPProcessor()\n",
    "model = MedCLIPModel(vision_cls=MedCLIPVisionModelViT, checkpoint='D:/Users/guilherme/AI-MammoReport/research/MedCLIP/checkpoints/vision_text_pretrain/best')\n",
    "clf = PromptClassifier(model, ensemble=True)\n",
    "clf.cuda()"
   ]
  },
  {
   "cell_type": "code",
   "execution_count": 3,
   "id": "e3bc5dea",
   "metadata": {},
   "outputs": [
    {
     "name": "stdout",
     "output_type": "stream",
     "text": [
      "sample 10 num of prompts for Atelectasis from total 210\n",
      "sample 10 num of prompts for Cardiomegaly from total 15\n",
      "sample 10 num of prompts for Consolidation from total 192\n",
      "sample 10 num of prompts for Edema from total 18\n",
      "sample 10 num of prompts for Pleural Effusion from total 54\n"
     ]
    }
   ],
   "source": [
    "# prepare input image\n",
    "from PIL import Image\n",
    "image = Image.open('./example_data/view1_frontal.jpg')\n",
    "inputs = processor(images=image, return_tensors=\"pt\")\n",
    "\n",
    "# prepare input prompt texts\n",
    "from medclip.prompts import generate_chexpert_class_prompts, process_class_prompts\n",
    "\n",
    "cls_prompts = process_class_prompts(generate_chexpert_class_prompts(n=10))\n",
    "inputs['prompt_inputs'] = cls_prompts"
   ]
  },
  {
   "cell_type": "code",
   "execution_count": 4,
   "id": "16d7238e",
   "metadata": {},
   "outputs": [
    {
     "name": "stdout",
     "output_type": "stream",
     "text": [
      "{'logits': tensor([[0.5154, 0.4119, 0.2831, 0.2441, 0.4588]], device='cuda:0',\n",
      "       grad_fn=<StackBackward0>), 'class_names': ['Atelectasis', 'Cardiomegaly', 'Consolidation', 'Edema', 'Pleural Effusion']}\n"
     ]
    }
   ],
   "source": [
    "output = clf(**inputs)\n",
    "print(output)"
   ]
  }
 ],
 "metadata": {
  "kernelspec": {
   "display_name": "Python 3 (ipykernel)",
   "language": "python",
   "name": "python3"
  },
  "language_info": {
   "codemirror_mode": {
    "name": "ipython",
    "version": 3
   },
   "file_extension": ".py",
   "mimetype": "text/x-python",
   "name": "python",
   "nbconvert_exporter": "python",
   "pygments_lexer": "ipython3",
   "version": "3.11.8"
  }
 },
 "nbformat": 4,
 "nbformat_minor": 5
}
