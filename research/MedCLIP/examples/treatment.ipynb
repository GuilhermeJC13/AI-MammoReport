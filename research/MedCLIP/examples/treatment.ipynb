{
 "cells": [
  {
   "cell_type": "code",
   "execution_count": 11,
   "metadata": {},
   "outputs": [],
   "source": [
    "import numpy as np\n",
    "from PIL import Image\n",
    "import os\n",
    "import pandas as pd\n",
    "from torchvision import transforms\n",
    "from PIL import Image\n",
    "import matplotlib.pyplot as plt\n",
    "import numpy as np\n",
    "import os"
   ]
  },
  {
   "cell_type": "code",
   "execution_count": 6,
   "metadata": {},
   "outputs": [],
   "source": [
    "def resize_image(image, width, height):\n",
    "    return image.resize((width, height))"
   ]
  },
  {
   "cell_type": "code",
   "execution_count": 7,
   "metadata": {},
   "outputs": [],
   "source": [
    "def crop_image(image, x, y, width, height):\n",
    "  return image.crop((x, y, x + width,  x + height))"
   ]
  },
  {
   "cell_type": "code",
   "execution_count": 49,
   "metadata": {},
   "outputs": [],
   "source": [
    "def padronizar_imagem(imagem,):\n",
    "\n",
    "    # Carregar a imagem\n",
    "    imagem = Image.open(imagem)\n",
    "    \n",
    "    # Converter a imagem redimensionada para um array numpy\n",
    "    imagem_array = np.array(imagem).astype(np.float32)\n",
    "    \n",
    "    # Calcular a média e o desvio padrão dos valores dos pixels\n",
    "    mean = np.mean(imagem_array)\n",
    "    std = np.std(imagem_array)\n",
    "    \n",
    "    # Normalizar a imagem usando a fórmula (x = (x - mean) / std)\n",
    "    imagem_padronizada = (imagem_array - mean) / std\n",
    "    \n",
    "    return imagem_padronizada"
   ]
  },
  {
   "cell_type": "code",
   "execution_count": 12,
   "metadata": {},
   "outputs": [],
   "source": [
    "IMG_MEAN = .5862785803043838\n",
    "IMG_STD = .27950088968644304\n",
    "# IMG_MEAN = .44666268853478000\n",
    "# IMG_STD = .3144343342216960"
   ]
  },
  {
   "cell_type": "code",
   "execution_count": null,
   "metadata": {},
   "outputs": [],
   "source": [
    "def padronizar_imagem(image):\n",
    "    image_array = np.array(image)\n",
    "    normalized_image_array = (image_array - IMG_MEAN) / IMG_STD\n",
    "\n",
    "    # Converter o array NumPy normalizado de volta para imagem PIL (e converter para uint8)\n",
    "    normalized_image = Image.fromarray(normalized_image_array.astype(np.uint8))\n",
    "    return normalized_image"
   ]
  },
  {
   "cell_type": "code",
   "execution_count": 14,
   "metadata": {},
   "outputs": [],
   "source": [
    "def normalize(image):\n",
    "    transform = transforms.Compose([\n",
    "        transforms.ToTensor(),\n",
    "        transforms.Normalize(mean=[IMG_MEAN], std=[IMG_STD]),\n",
    "        transforms.ToPILImage()\n",
    "    ])\n",
    "\n",
    "    # Aplicar a transformação\n",
    "    transformed_image = transform(image)\n",
    "    #trans_image = trans(image)\n",
    "\n",
    "    # Converter tensor para numpy array\n",
    "    #to_pil = transforms.ToPILImage()\n",
    "    #image_pil = to_pil(transformed_image)\n",
    "    \n",
    "    return transformed_image"
   ]
  },
  {
   "cell_type": "code",
   "execution_count": 15,
   "metadata": {},
   "outputs": [],
   "source": [
    "def calculate_mean_and_std_normal(image):\n",
    "\n",
    "    img_array = np.array(image)\n",
    "\n",
    "    non_black_pixels = img_array / 255.\n",
    "\n",
    "    mean = np.mean(non_black_pixels)\n",
    "    std = np.std(non_black_pixels)\n",
    "    max_value = np.max(non_black_pixels)\n",
    "    min_value = np.min(non_black_pixels)\n",
    "        \n",
    "\n",
    "    results = [\n",
    "                mean,\n",
    "                std,\n",
    "                max_value,\n",
    "                min_value\n",
    "    ]\n",
    "\n",
    "    return results"
   ]
  },
  {
   "cell_type": "code",
   "execution_count": 16,
   "metadata": {},
   "outputs": [],
   "source": [
    "def calculate_mean_and_std(folder):\n",
    "    results = []\n",
    "    corrupt_files = []\n",
    "\n",
    "    for root, dirs, files in os.walk(folder):\n",
    "        for file in files:\n",
    "            if file.lower().endswith('.jpg'):\n",
    "                try:\n",
    "                    img_path = os.path.join(root, file)\n",
    "                    img = Image.open(img_path).convert('L')\n",
    "                except Exception as e:\n",
    "                    print(f\"Erro ao abrir {file}: {e}\")\n",
    "                    corrupt_files.append(os.path.abspath(file))\n",
    "                    continue\n",
    "\n",
    "                # img = resize_image(img, 390, 320)\n",
    "\n",
    "                # x, y, width, height = crop_coords\n",
    "                # cropped_img = crop_image(img, x, y, width, height)\n",
    "\n",
    "                img_array = np.array(img)\n",
    "\n",
    "                pixels = img_array / 255.\n",
    "\n",
    "                mean = np.mean(pixels)\n",
    "                std = np.std(pixels)\n",
    "                max_value = np.max(pixels)\n",
    "                min_value = np.min(pixels)\n",
    "\n",
    "                if np.isnan(mean) or np.isnan(std):\n",
    "                    print(f\"Encontrado NaN em {file} com mean: {mean}, std: {std}\")\n",
    "                    continue\n",
    "                \n",
    "                mean_normal, std_normal, max_value_normal, min_value_normal = calculate_mean_and_std_normal(normalize(img))\n",
    "\n",
    "                results.append({\n",
    "                    \"file_path\": file,\n",
    "                    \"mean\": mean,\n",
    "                    \"std\": std,\n",
    "                    \"max_value\": max_value,\n",
    "                    \"min_value\": min_value,\n",
    "                    \"mean_normal\": mean_normal,\n",
    "                    \"std_normal\": std_normal,\n",
    "                    \"max_value_normal\": max_value_normal,\n",
    "                    \"min_value_normal\": min_value_normal\n",
    "                })\n",
    "                \n",
    "    df = pd.DataFrame(results)\n",
    "\n",
    "    return  df"
   ]
  },
  {
   "cell_type": "code",
   "execution_count": 17,
   "metadata": {},
   "outputs": [
    {
     "name": "stdout",
     "output_type": "stream",
     "text": [
      "                                          file_path      mean       std  \\\n",
      "0  02aa804e-bde0afdd-112c0b34-7bc16630-4e384014.jpg  0.372197  0.332217   \n",
      "1  174413ec-4ec4c1f7-34ea26b7-c5f994f8-79ef1962.jpg  0.362351  0.332439   \n",
      "2  2a2277a9-b0ded155-c0de8eb9-c124d10e-82c5caab.jpg  0.492572  0.295344   \n",
      "3  e084de3b-be89b11e-20fe3f9f-9c8d8dfe-4cfd202c.jpg  0.491098  0.290418   \n",
      "4  68b5c4b1-227d0485-9cc38c3f-7b84ab51-4b472714.jpg  0.484492  0.297349   \n",
      "5  fffabebf-74fd3a1f-673b6b41-96ec0ac9-2ab69818.jpg  0.443380  0.314677   \n",
      "6  ea030e7a-2e3b1346-bc518786-7a8fd698-f673b44c.jpg  0.446663  0.314434   \n",
      "\n",
      "   max_value  min_value  mean_normal  std_normal  max_value_normal  \\\n",
      "0        1.0        0.0     0.590483    0.319025               1.0   \n",
      "1        1.0        0.0     0.598006    0.317785               1.0   \n",
      "2        1.0        0.0     0.490205    0.300426               1.0   \n",
      "3        1.0        0.0     0.508371    0.290389               1.0   \n",
      "4        1.0        0.0     0.492962    0.296114               1.0   \n",
      "5        1.0        0.0     0.530296    0.307543               1.0   \n",
      "6        1.0        0.0     0.525972    0.309284               1.0   \n",
      "\n",
      "   min_value_normal  \n",
      "0          0.003922  \n",
      "1          0.003922  \n",
      "2          0.003922  \n",
      "3          0.003922  \n",
      "4          0.003922  \n",
      "5          0.003922  \n",
      "6          0.003922  \n"
     ]
    }
   ],
   "source": [
    "path = r'../mimic-cxr/mimic-cxr-images/p10/p10000032'\n",
    "\n",
    "df = calculate_mean_and_std(path)\n",
    "\n",
    "print(df)\n",
    "df.to_csv('resultados.csv', index=False)"
   ]
  }
 ],
 "metadata": {
  "kernelspec": {
   "display_name": "venv",
   "language": "python",
   "name": "python3"
  },
  "language_info": {
   "codemirror_mode": {
    "name": "ipython",
    "version": 3
   },
   "file_extension": ".py",
   "mimetype": "text/x-python",
   "name": "python",
   "nbconvert_exporter": "python",
   "pygments_lexer": "ipython3",
   "version": "3.11.8"
  }
 },
 "nbformat": 4,
 "nbformat_minor": 2
}
