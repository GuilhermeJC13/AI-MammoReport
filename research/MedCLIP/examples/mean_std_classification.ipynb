{
 "cells": [
  {
   "cell_type": "code",
   "execution_count": 3,
   "metadata": {},
   "outputs": [],
   "source": [
    "import numpy as np\n",
    "from PIL import Image\n",
    "import os"
   ]
  },
  {
   "cell_type": "code",
   "execution_count": 4,
   "metadata": {},
   "outputs": [],
   "source": [
    "def resize_image(image, width, height):\n",
    "    return image.resize((width, height))"
   ]
  },
  {
   "cell_type": "code",
   "execution_count": 5,
   "metadata": {},
   "outputs": [],
   "source": [
    "def crop_image(image, x, y, width, height):\n",
    "  return image.crop((x, y, x + width,  x + height))"
   ]
  },
  {
   "cell_type": "code",
   "execution_count": 1,
   "metadata": {},
   "outputs": [],
   "source": [
    "def calculate_mean_and_std(folder, crop_coords):\n",
    "    means = []\n",
    "    stds = []\n",
    "    corrupt_files = []\n",
    "    \n",
    "    for root, dirs, files in os.walk(folder):\n",
    "        for file in files:\n",
    "            if file.lower().endswith('.jpg'):\n",
    "                try:\n",
    "                    img_path = os.path.join(root, file)\n",
    "                    img = Image.open(img_path).convert('L')\n",
    "                except Exception as e:\n",
    "                    print(f\"Erro ao abrir {file}: {e}\")\n",
    "                    corrupt_files.append(os.path.abspath(file))\n",
    "                    continue\n",
    "\n",
    "                img = resize_image(img, 390, 320)\n",
    "\n",
    "                x, y, width, height = crop_coords\n",
    "                cropped_img = crop_image(img, x, y, width, height)\n",
    "\n",
    "                img_array = np.array(cropped_img)\n",
    "\n",
    "                non_black_pixels = img_array[img_array > 0] / 255.\n",
    "\n",
    "                mean = np.mean(non_black_pixels)\n",
    "                std = np.std(non_black_pixels)\n",
    "\n",
    "                if np.isnan(mean) or np.isnan(std):\n",
    "                    print(f\"Encontrado NaN em {file} com mean: {mean}, std: {std}\")\n",
    "                    continue\n",
    "\n",
    "                means.append(mean)\n",
    "                stds.append(std)\n",
    "\n",
    "    overall_mean = np.mean(means)\n",
    "    overall_std = np.mean(stds)\n",
    "\n",
    "    return overall_mean, overall_std, corrupt_files"
   ]
  },
  {
   "cell_type": "code",
   "execution_count": 6,
   "metadata": {},
   "outputs": [
    {
     "name": "stdout",
     "output_type": "stream",
     "text": [
      "Erro ao abrir 5efcca76-6680afa2-9266277f-c6f97cfe-397888c9.jpg: image file is truncated (9 bytes not processed)\n"
     ]
    },
    {
     "name": "stderr",
     "output_type": "stream",
     "text": [
      "d:\\Users\\taylor\\.conda\\Lib\\site-packages\\numpy\\core\\fromnumeric.py:3504: RuntimeWarning: Mean of empty slice.\n",
      "  return _methods._mean(a, axis=axis, dtype=dtype,\n",
      "d:\\Users\\taylor\\.conda\\Lib\\site-packages\\numpy\\core\\_methods.py:129: RuntimeWarning: invalid value encountered in scalar divide\n",
      "  ret = ret.dtype.type(ret / rcount)\n",
      "d:\\Users\\taylor\\.conda\\Lib\\site-packages\\numpy\\core\\_methods.py:206: RuntimeWarning: Degrees of freedom <= 0 for slice\n",
      "  ret = _var(a, axis=axis, dtype=dtype, out=out, ddof=ddof,\n",
      "d:\\Users\\taylor\\.conda\\Lib\\site-packages\\numpy\\core\\_methods.py:163: RuntimeWarning: invalid value encountered in divide\n",
      "  arrmean = um.true_divide(arrmean, div, out=arrmean,\n",
      "d:\\Users\\taylor\\.conda\\Lib\\site-packages\\numpy\\core\\_methods.py:198: RuntimeWarning: invalid value encountered in scalar divide\n",
      "  ret = ret.dtype.type(ret / rcount)\n"
     ]
    },
    {
     "name": "stdout",
     "output_type": "stream",
     "text": [
      "Encontrado NaN em 14a5423b-9989fc33-123ce6f1-4cc7ca9a-9a3d2179.jpg com mean: nan, std: nan\n",
      "Erro ao abrir 29d0dff0-77059186-1817372d-768fc006-d16b4826.jpg: image file is truncated (10 bytes not processed)\n",
      "0.5190822877646659\n",
      "0.2652003108384032\n",
      "['d:\\\\Users\\\\guilherme\\\\AI-MammoReport\\\\research\\\\MedCLIP\\\\examples\\\\5efcca76-6680afa2-9266277f-c6f97cfe-397888c9.jpg', 'd:\\\\Users\\\\guilherme\\\\AI-MammoReport\\\\research\\\\MedCLIP\\\\examples\\\\29d0dff0-77059186-1817372d-768fc006-d16b4826.jpg']\n"
     ]
    }
   ],
   "source": [
    "path = r'D:\\Users\\guilherme\\AI-MammoReport\\mimic-cxr\\mimic-cxr-images'\n",
    "\n",
    "mean_images, std_images, corrupt_images = calculate_mean_and_std(path, (20, 40, 350, 280))\n",
    "\n",
    "print(mean_images)\n",
    "print(std_images)\n",
    "print(corrupt_images)"
   ]
  }
 ],
 "metadata": {
  "kernelspec": {
   "display_name": "Python 3",
   "language": "python",
   "name": "python3"
  },
  "language_info": {
   "codemirror_mode": {
    "name": "ipython",
    "version": 3
   },
   "file_extension": ".py",
   "mimetype": "text/x-python",
   "name": "python",
   "nbconvert_exporter": "python",
   "pygments_lexer": "ipython3",
   "version": "3.11.8"
  }
 },
 "nbformat": 4,
 "nbformat_minor": 2
}
